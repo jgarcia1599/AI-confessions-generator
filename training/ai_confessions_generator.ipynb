{
  "nbformat": 4,
  "nbformat_minor": 0,
  "metadata": {
    "accelerator": "GPU",
    "colab": {
      "name": "ai_confessions_generator.ipynb",
      "provenance": [],
      "collapsed_sections": [],
      "toc_visible": true,
      "machine_shape": "hm"
    },
    "kernelspec": {
      "display_name": "Python 3",
      "name": "python3"
    }
  },
  "cells": [
    {
      "cell_type": "markdown",
      "metadata": {
        "id": "fyAL4YZus_EA"
      },
      "source": [
        "# Finetuning a GPT-2 model using data scraped from NYUAD confessions and NYUAD crushes and compliments\n"
      ]
    },
    {
      "cell_type": "code",
      "metadata": {
        "id": "N_HQULSGl2SK"
      },
      "source": [
        ""
      ],
      "execution_count": null,
      "outputs": []
    },
    {
      "cell_type": "markdown",
      "metadata": {
        "id": "H7LoMj4GA4n_"
      },
      "source": [
        " Train a GPT-2 Text-Generating Model w/ GPU For Free \n",
        "\n",
        "by [Max Woolf](http://minimaxir.com) with modifications by [Michael Ang](https://michaelang.com) for [A.rt I.ntel NYUAD IM](https://github.com/nyuad-im/artintel)\n",
        "\n",
        "*Last updated: November 10th, 2019*\n",
        "\n",
        "*Updated by Mangtronix: October 7, 2020*\n",
        "\n",
        "Retrain an advanced text generating neural network on any text dataset **for free on a GPU using Collaboratory** using `gpt-2-simple`!\n",
        "\n",
        "For more about `gpt-2-simple`, you can visit [this GitHub repository](https://github.com/minimaxir/gpt-2-simple). You can also read my [blog post](https://minimaxir.com/2019/09/howto-gpt2/) for more information how to use this notebook!\n",
        "\n",
        "\n",
        "To get started:\n",
        "\n",
        "1. Copy this notebook to your Google Drive to keep it and save your changes. (File -> Save a Copy in Drive)\n",
        "2. Make sure you're running the notebook in Google Chrome.\n",
        "3. Run the cells below:\n"
      ]
    },
    {
      "cell_type": "code",
      "metadata": {
        "id": "KBkpRgBCBS2_"
      },
      "source": [
        "%tensorflow_version 1.x\n",
        "!pip install -q gpt-2-simple\n"
      ],
      "execution_count": null,
      "outputs": []
    },
    {
      "cell_type": "code",
      "metadata": {
        "id": "ex-K5p9Ck9Mf"
      },
      "source": [
        "import gpt_2_simple as gpt2\n",
        "import tensorflow as tf\n",
        "from datetime import datetime\n",
        "from google.colab import files"
      ],
      "execution_count": null,
      "outputs": []
    },
    {
      "cell_type": "markdown",
      "metadata": {
        "id": "Bj2IJLHP3KwE"
      },
      "source": [
        "## GPU\n",
        "\n",
        "Colaboratory uses either a Nvidia T4 GPU or an Nvidia K80 GPU. The T4 is slightly faster than the old K80 for training GPT-2, and has more memory allowing you to train the larger GPT-2 models and generate more text.\n",
        "\n",
        "You can verify which GPU is active by running the cell below."
      ]
    },
    {
      "cell_type": "code",
      "metadata": {
        "id": "sUmTooTW3osf"
      },
      "source": [
        "!nvidia-smi"
      ],
      "execution_count": null,
      "outputs": []
    },
    {
      "cell_type": "markdown",
      "metadata": {
        "id": "0wXB05bPDYxS"
      },
      "source": [
        "## Downloading GPT-2\n",
        "\n",
        "If you're retraining a model on new text, you need to download the GPT-2 model first. \n",
        "\n",
        "There are three released sizes of GPT-2:\n",
        "\n",
        "* `124M` (default): the \"small\" model, 500MB on disk.\n",
        "* `355M`: the \"medium\" model, 1.5GB on disk.\n",
        "* `774M`: the \"large\" model, cannot currently be finetuned with Colaboratory but can be used to generate text from the pretrained model (see later in Notebook)\n",
        "* `1558M`: the \"extra large\", true model. Will not work if a K80 GPU is attached to the notebook. (like `774M`, it cannot be finetuned).\n",
        "\n",
        "Larger models have more knowledge, but take longer to finetune and longer to generate text. You can specify which base model to use by changing `model_name` in the cells below.\n",
        "\n",
        "The next cell downloads it from Google Cloud Storage and saves it in the Colaboratory VM at `/models/<model_name>`.\n",
        "\n",
        "This model isn't permanently saved in the Colaboratory VM; you'll have to redownload it if you want to retrain it at a later time."
      ]
    },
    {
      "cell_type": "code",
      "metadata": {
        "id": "P8wSlgXoDPCR"
      },
      "source": [
        "gpt2.download_gpt2(model_name=\"355M\")"
      ],
      "execution_count": null,
      "outputs": []
    },
    {
      "cell_type": "markdown",
      "metadata": {
        "id": "BT__brhBCvJu"
      },
      "source": [
        "## Uploading a Text File to be Trained to Colaboratory\n",
        "\n",
        "Run the next cell to upload a text file to use for finetuning.\n",
        "\n",
        "Upload **any smaller text file**  (<10 MB)"
      ]
    },
    {
      "cell_type": "code",
      "metadata": {
        "id": "6OFnPCLADfll",
        "outputId": "5e6610de-bd47-419f-dccd-461975959319",
        "colab": {
          "resources": {
            "http://localhost:8080/nbextensions/google.colab/files.js": {
              "data": "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",
              "ok": true,
              "headers": [
                [
                  "content-type",
                  "application/javascript"
                ]
              ],
              "status": 200,
              "status_text": ""
            }
          },
          "base_uri": "https://localhost:8080/",
          "height": 89
        }
      },
      "source": [
        "run_name = \"gpt_uploaded\"\n",
        "\n",
        "from google.colab import files\n",
        "\n",
        "uploaded = files.upload()\n",
        "\n",
        "file_name = list(uploaded.keys())[0]\n",
        "print(\"Received file \" + file_name)\n"
      ],
      "execution_count": 5,
      "outputs": [
        {
          "output_type": "display_data",
          "data": {
            "text/html": [
              "\n",
              "     <input type=\"file\" id=\"files-6dc23dac-27f5-4599-91fb-f6811505d398\" name=\"files[]\" multiple disabled\n",
              "        style=\"border:none\" />\n",
              "     <output id=\"result-6dc23dac-27f5-4599-91fb-f6811505d398\">\n",
              "      Upload widget is only available when the cell has been executed in the\n",
              "      current browser session. Please rerun this cell to enable.\n",
              "      </output>\n",
              "      <script src=\"/nbextensions/google.colab/files.js\"></script> "
            ],
            "text/plain": [
              "<IPython.core.display.HTML object>"
            ]
          },
          "metadata": {
            "tags": []
          }
        },
        {
          "output_type": "stream",
          "text": [
            "Saving confessions.txt to confessions.txt\n",
            "Received file confessions.txt\n"
          ],
          "name": "stdout"
        }
      ]
    },
    {
      "cell_type": "markdown",
      "metadata": {
        "id": "LdpZQXknFNY3"
      },
      "source": [
        "## Finetune GPT-2\n",
        "\n",
        "The next cell will start the actual finetuning of GPT-2. It creates a persistent TensorFlow session which stores the training config, then runs the training for the specified number of `steps`. (to have the finetuning run indefinitely, set `steps = -1`)\n",
        "\n",
        "The model checkpoints will be saved in `/checkpoint/run1` by default. The checkpoints are saved every 500 steps (can be changed) and when the cell is stopped.\n",
        "\n",
        "The training might time out after 4ish hours; make sure you end training and save the results so you don't lose them!\n",
        "\n",
        "**IMPORTANT NOTE:** If you want to rerun this cell, **restart the VM first** (Runtime -> Restart Runtime). You will need to rerun imports but not recopy files.\n",
        "\n",
        "Other optional-but-helpful parameters for `gpt2.finetune`:\n",
        "\n",
        "\n",
        "*  **`restore_from`**: Set to `fresh` to start training from the base GPT-2, or set to `latest` to restart training from an existing checkpoint.\n",
        "* **`sample_every`**: Number of steps to print example output\n",
        "* **`print_every`**: Number of steps to print training progress.\n",
        "* **`learning_rate`**:  Learning rate for the training. (default `1e-4`, can lower to `1e-5` if you have <1MB input data)\n",
        "*  **`run_name`**: subfolder within `checkpoint` to save the model. This is useful if you want to work with multiple models (will also need to specify  `run_name` when loading the model)\n",
        "* **`overwrite`**: Set to `True` if you want to continue finetuning an existing model (w/ `restore_from='latest'`) without creating duplicate copies. "
      ]
    },
    {
      "cell_type": "code",
      "metadata": {
        "id": "aeXshJM-Cuaf",
        "outputId": "8c13925c-0172-46d3-8bdf-82acbb275165",
        "colab": {
          "base_uri": "https://localhost:8080/"
        }
      },
      "source": [
        "tf.reset_default_graph() # Reseting allows us to finetune multiple times\n",
        "                         # Run this cell again for more finetuning\n",
        "\n",
        "sess = gpt2.start_tf_sess()\n",
        "\n",
        "steps = 100 # Number of times to train\n",
        "sample_every = 10 # Ask the model to generate \"original\" text as we train so we can\n",
        "                  # see the progress - the generated text should start to match\n",
        "                  # our sample text.\n",
        "sample_length = 100 # How long of sample text to generate\n",
        "\n",
        "gpt2.finetune(sess,\n",
        "              dataset=file_name,\n",
        "              model_name='355M',\n",
        "              checkpoint_dir = 'checkpoint',\n",
        "              steps=steps,\n",
        "              run_name=run_name,\n",
        "              print_every=1,\n",
        "              sample_every=sample_every, \n",
        "              sample_length=sample_length,\n",
        "              )"
      ],
      "execution_count": 6,
      "outputs": [
        {
          "output_type": "stream",
          "text": [
            "WARNING:tensorflow:From /usr/local/lib/python3.6/dist-packages/gpt_2_simple/src/sample.py:17: where (from tensorflow.python.ops.array_ops) is deprecated and will be removed in a future version.\n",
            "Instructions for updating:\n",
            "Use tf.where in 2.0, which has the same broadcast rule as np.where\n",
            "WARNING:tensorflow:From /usr/local/lib/python3.6/dist-packages/gpt_2_simple/src/memory_saving_gradients.py:62: get_backward_walk_ops (from tensorflow.contrib.graph_editor.select) is deprecated and will be removed after 2019-06-06.\n",
            "Instructions for updating:\n",
            "Please use tensorflow.python.ops.op_selector.get_backward_walk_ops.\n",
            "Loading checkpoint models/355M/model.ckpt\n",
            "INFO:tensorflow:Restoring parameters from models/355M/model.ckpt\n"
          ],
          "name": "stdout"
        },
        {
          "output_type": "stream",
          "text": [
            "\r  0%|          | 0/1 [00:00<?, ?it/s]"
          ],
          "name": "stderr"
        },
        {
          "output_type": "stream",
          "text": [
            "Loading dataset...\n"
          ],
          "name": "stdout"
        },
        {
          "output_type": "stream",
          "text": [
            "100%|██████████| 1/1 [00:00<00:00,  2.26it/s]\n"
          ],
          "name": "stderr"
        },
        {
          "output_type": "stream",
          "text": [
            "dataset has 65600 tokens\n",
            "Training...\n",
            "[1 | 9.59] loss=3.29 avg=3.29\n",
            "[2 | 10.47] loss=3.20 avg=3.24\n",
            "[3 | 11.35] loss=3.18 avg=3.22\n",
            "[4 | 12.23] loss=3.33 avg=3.25\n",
            "[5 | 13.11] loss=3.31 avg=3.26\n",
            "[6 | 14.00] loss=3.01 avg=3.22\n",
            "[7 | 14.88] loss=2.81 avg=3.16\n",
            "[8 | 15.76] loss=3.28 avg=3.17\n",
            "[9 | 16.64] loss=3.36 avg=3.20\n",
            "[10 | 17.52] loss=3.13 avg=3.19\n",
            "======== SAMPLE 1 ========\n",
            " a few questions; \"\n",
            "\" Will the company continue to accept donations of any size after this event? \"\n",
            "\" If the company has to close their site, will they take it down after? \"\n",
            "\" I believe the fact that most of this is on the internet, has changed the way that I feel about people working and living here. It's hard to just work through it alone and feel that anyone cares. \"\n",
            "\" I've been coming to this university for the last two years,\n",
            "\n",
            "[11 | 22.07] loss=2.64 avg=3.14\n",
            "[12 | 22.95] loss=2.59 avg=3.09\n",
            "[13 | 23.84] loss=2.85 avg=3.07\n",
            "[14 | 24.72] loss=3.38 avg=3.09\n",
            "[15 | 25.60] loss=3.33 avg=3.11\n",
            "[16 | 26.48] loss=2.09 avg=3.04\n",
            "[17 | 27.36] loss=3.26 avg=3.05\n",
            "[18 | 28.24] loss=3.27 avg=3.07\n",
            "[19 | 29.12] loss=2.65 avg=3.04\n",
            "[20 | 30.00] loss=3.62 avg=3.07\n",
            "======== SAMPLE 1 ========\n",
            " miss if you didn't get enough exposure. They might not see something like this, but they have people like us at Harvard trying to help them. I am soooooo lucky. I'm so thankful that one person is standing behind me and helping me make this dream come true. I'm glad that every single student that passes through is a real student, and not just a number or a percentage. I'd really appreciate a hand, Please help. - AO \"\n",
            "# 1927 \" If\n",
            "\n",
            "[21 | 32.33] loss=3.49 avg=3.10\n",
            "[22 | 33.21] loss=3.20 avg=3.10\n",
            "[23 | 34.09] loss=3.47 avg=3.12\n",
            "[24 | 34.98] loss=3.11 avg=3.12\n",
            "[25 | 35.86] loss=3.53 avg=3.14\n",
            "[26 | 36.74] loss=2.20 avg=3.10\n",
            "[27 | 37.62] loss=2.23 avg=3.06\n",
            "[28 | 38.50] loss=3.26 avg=3.07\n",
            "[29 | 39.39] loss=3.09 avg=3.07\n",
            "[30 | 40.27] loss=3.39 avg=3.08\n",
            "======== SAMPLE 1 ========\n",
            " and was happy to work with me to make sure he understood what my interests are! We both love working with people, we both work on our computers, and we both need help to stay alive.\n",
            "# 2139 \" I have just finished taking two semesters of college credit, and I really hope that I will find a job in the next six months. I can hardly wait to see a beautiful beach and see all the fish. I really love working with these people and their work and I want\n",
            "\n",
            "[31 | 42.63] loss=3.24 avg=3.09\n",
            "[32 | 43.51] loss=3.34 avg=3.10\n",
            "[33 | 44.39] loss=3.18 avg=3.10\n",
            "[34 | 45.27] loss=2.85 avg=3.09\n",
            "[35 | 46.15] loss=3.02 avg=3.09\n",
            "[36 | 47.03] loss=3.17 avg=3.09\n",
            "[37 | 47.92] loss=1.98 avg=3.06\n",
            "[38 | 48.80] loss=3.01 avg=3.05\n",
            "[39 | 49.68] loss=2.59 avg=3.04\n",
            "[40 | 50.56] loss=3.01 avg=3.04\n",
            "======== SAMPLE 1 ========\n",
            " in the last 50 years, the amount of research, effort and funding devoted to cancer research has increased from $1.5 trillion dollars to $2 trillion dollars each year over the last 50 years. With that, there are nearly 2200 researchers working in the US in cancer, diabetes and cancer research. And since most of them are in the National Institutes of Health, that means that they are on every aspect of research from clinical trials, to drug development, to testing, to public relations, to everything\n",
            "\n",
            "[41 | 52.88] loss=2.17 avg=3.01\n",
            "[42 | 53.76] loss=3.02 avg=3.01\n",
            "[43 | 54.65] loss=2.42 avg=3.00\n",
            "[44 | 55.53] loss=2.99 avg=3.00\n",
            "[45 | 56.41] loss=2.58 avg=2.99\n",
            "[46 | 57.29] loss=2.70 avg=2.98\n",
            "[47 | 58.17] loss=2.12 avg=2.95\n",
            "[48 | 59.05] loss=3.46 avg=2.97\n",
            "[49 | 59.93] loss=3.50 avg=2.98\n",
            "[50 | 60.81] loss=1.57 avg=2.95\n",
            "======== SAMPLE 1 ========\n",
            " graduate’s mom and dad who were there and they did a really great job of supporting her. I don’t know who my \"friends\" are in the fraternity but i know they would love me if i could come back here for a bit so that they could celebrate our first night of study hall. As an alumnus with over 100 credits i really know how to support my friends. My dream is to be able to attend fraternity, sorority, and host campus activities again.\n",
            "\n",
            "[51 | 63.10] loss=2.31 avg=2.93\n",
            "[52 | 63.98] loss=3.30 avg=2.94\n",
            "[53 | 64.86] loss=3.17 avg=2.94\n",
            "[54 | 65.74] loss=3.30 avg=2.95\n",
            "[55 | 66.62] loss=1.15 avg=2.91\n",
            "[56 | 67.50] loss=3.28 avg=2.92\n",
            "[57 | 68.39] loss=2.67 avg=2.91\n",
            "[58 | 69.27] loss=3.26 avg=2.92\n",
            "[59 | 70.15] loss=3.01 avg=2.92\n",
            "[60 | 71.03] loss=3.06 avg=2.93\n",
            "======== SAMPLE 1 ========\n",
            " of the best in the business, I have no doubt that when this project is put to bed its going to be a great thing. I think I will miss being in your presence, man. \"\n",
            "# 3354 \" To all the first-timers, first-time moms, first-timers at all - I know you haven't had the first one and you still try not to look back \"\n",
            "# 3353 \" The next time we attend this party, I'm going on a\n",
            "\n",
            "[61 | 73.35] loss=3.50 avg=2.94\n",
            "[62 | 74.23] loss=2.60 avg=2.93\n",
            "[63 | 75.11] loss=2.82 avg=2.93\n",
            "[64 | 75.99] loss=2.72 avg=2.92\n",
            "[65 | 76.87] loss=2.83 avg=2.92\n",
            "[66 | 77.76] loss=2.81 avg=2.92\n",
            "[67 | 78.64] loss=2.46 avg=2.91\n",
            "[68 | 79.52] loss=2.12 avg=2.89\n",
            "[69 | 80.40] loss=1.48 avg=2.87\n",
            "[70 | 81.28] loss=2.92 avg=2.87\n",
            "======== SAMPLE 1 ========\n",
            ". One other thing: I have an older sister who is incredibly funny and kind and I love her so much but I just know she can't be friends with everyone. We're just not in the same room. \"\n",
            "# 3932 \" I've always been really picky about what I eat, which is one of the reasons I hate myself. I always have those self-imposed rules that I'm going to never eat any food that I don't like and I don't want to cook.\n",
            "\n",
            "[71 | 83.61] loss=2.27 avg=2.86\n",
            "[72 | 84.49] loss=1.95 avg=2.84\n",
            "[73 | 85.37] loss=1.95 avg=2.82\n",
            "[74 | 86.25] loss=2.46 avg=2.81\n",
            "[75 | 87.13] loss=2.06 avg=2.80\n",
            "[76 | 88.01] loss=2.54 avg=2.80\n",
            "[77 | 88.90] loss=1.65 avg=2.77\n",
            "[78 | 89.78] loss=2.61 avg=2.77\n",
            "[79 | 90.66] loss=2.02 avg=2.76\n",
            "[80 | 91.54] loss=1.87 avg=2.74\n",
            "======== SAMPLE 1 ========\n",
            " about #MuslimBan\n",
            "# 3195 \" I am so grateful for my fellow humans who stood up to protect one another after such a heinous attack on the innocent. Humanity is stronger than any one individual. \"\n",
            "# 32054 \" I am so incredibly proud of the class of 2020 graduating class of 2021: you, me and future class of 2024. \"\n",
            "# 3192 \" A big thank you to everyone affected by the Orlando mass shooting! I will miss you all so much IRL. <\n",
            "\n",
            "[81 | 93.82] loss=1.96 avg=2.73\n",
            "[82 | 94.70] loss=2.37 avg=2.72\n",
            "[83 | 95.58] loss=2.99 avg=2.73\n",
            "[84 | 96.46] loss=2.96 avg=2.73\n",
            "[85 | 97.34] loss=1.88 avg=2.71\n",
            "[86 | 98.22] loss=2.27 avg=2.71\n",
            "[87 | 99.10] loss=3.38 avg=2.72\n",
            "[88 | 99.98] loss=3.29 avg=2.73\n",
            "[89 | 100.86] loss=2.67 avg=2.73\n",
            "[90 | 101.74] loss=3.09 avg=2.73\n",
            "======== SAMPLE 1 ========\n",
            "ka, I wish I could see you in your wedding gown. I can only imagine the happiness. \" \"\n",
            "# 3938 \" It's such a shame that when there is an international break for the breakdancers to get their gear, they are not allowed to go back to their homes country! Please understand everyone, I think all these kids who have broken out of the ban in the US need to get off their phones and go back home with their parents so they can feel at home \"\n",
            "\n",
            "\n",
            "[91 | 104.13] loss=1.32 avg=2.71\n",
            "[92 | 105.02] loss=1.83 avg=2.70\n",
            "[93 | 105.90] loss=1.96 avg=2.68\n",
            "[94 | 106.79] loss=2.57 avg=2.68\n",
            "[95 | 107.67] loss=1.90 avg=2.67\n",
            "[96 | 108.56] loss=1.00 avg=2.64\n",
            "[97 | 109.44] loss=2.11 avg=2.63\n",
            "[98 | 110.32] loss=3.00 avg=2.64\n",
            "[99 | 111.21] loss=2.59 avg=2.64\n",
            "[100 | 112.09] loss=1.98 avg=2.63\n",
            "Saving checkpoint/gpt_uploaded/model-100\n"
          ],
          "name": "stdout"
        }
      ]
    },
    {
      "cell_type": "markdown",
      "metadata": {
        "id": "IXSuTNERaw6K"
      },
      "source": [
        "After the model is trained, you can copy the checkpoint folder to your own Google Drive (see cells further below)."
      ]
    },
    {
      "cell_type": "markdown",
      "metadata": {
        "id": "ClJwpF_ACONp"
      },
      "source": [
        "## Generate Text From The Trained Model\n",
        "\n",
        "After you've trained the model or loaded a retrained model from checkpoint, you can now generate text. `generate` generates a single text from the loaded model."
      ]
    },
    {
      "cell_type": "code",
      "metadata": {
        "id": "4RNY6RBI9LmL",
        "outputId": "ed69cae9-220c-4eb0-c740-9fc740c98343",
        "colab": {
          "base_uri": "https://localhost:8080/"
        }
      },
      "source": [
        "gpt2.generate(sess, run_name=run_name)"
      ],
      "execution_count": 7,
      "outputs": [
        {
          "output_type": "stream",
          "text": [
            "bdync is a library to mirror your favorite apps\n",
            "# 3840 \" dbus-daemon: don't forget to disable the warning dialogs on your home page\n",
            "# 3839 \" any suggestions for improvement?\n",
            "# 3838 \" I feel like I've been doing the wrong thing since I was a kid, like I'm normal but not normal enough \"\n",
            "# 3837 \" I don't know why I have to be so mean about people who don’t understand me. Why should I have to be nice to people who don’t know me? I'm just a normal human being. \"\n",
            "# 3836 \" I love my roommate so much. He is an amazing person, and I’m so very lucky to have known him. He is a great guy, and I wish I could have known him sooner. Anyways, I just wanted to say how much I appreciate your presence. I really do. Also, I love your smile. \"\n",
            "# 3835 \" Is it ok to post selfies in the comment section? Like I said, I don't know anything about this and I'm just trying to help out people who need it. \"\n",
            "# 3834 \" \"I don't know if I should've just said that I'm a girl who is into boys. I know a lot of guys think that girls are into boys, but for me it's like everyone is into girls. I don't know if I should've just said that I'm a girl who is into boys. I know a lot of guys think that girls are into boys, but for me it's like everyone is into girls. I don't know if I should've just said that I'm a girl who is into boys. Ima girl who is into boys Ima girl who is into boys \"\n",
            "# 3833 \" I don't know if I should've just said that I'm a girl who is into boys. I know a lot of guys think that girls are into boys, but for me it's like everyone is into girls. I don't know if I should've just said that I'm a girl who is into boys. Ima girl who is into boys Ima girl who is into boys \"\n",
            "# 3832 \" I don't know if I should've just said that I'm a girl who is into boys. I know a lot of guys think that girls are into boys, but for me it's like everyone is into girls. I don't know if I should've just said that I'm a girl who is into boys. Ima girl who is into boys Ima girl who is into boys \"\n",
            "# 3831 \" I think it’s rude to ask someone to name their favorite food. I don't know why we ask, but it’s so annoying when people ask me. It’s like asking someone to name their favorite color is the height of idiocy. \"\n",
            "# 3830 \" I've never seen anyone speak up about being called a girl. If someone calls you a girl, it's because they don't know you. They don't know how you really feel. They just know you're attractive. You're beautiful because you're smart, because you have a great personality and because you're smart, attractive and smart. You're not ugly, you're just smart. You're smart because you have a great personality, and because you're attractive. You're not ugly, you're just smart. You're beautiful because you're smart, and because you're attractive. You're not ugly, you're just smart. You're beautiful because you're smart, and because you're attractive. You're not ugly, you're just attractive. You're beautiful because you're smart, and because you're attractive. You're not ugly, you're just attractive. You're beautiful because you're smart, and because you're attractive. You're not ugly, you're just attractive. You're beautiful because you're smart, and because you're attractive. You're not ugly, you're just attractive. You're beautiful because you're smart, and because you're attractive. You're not ugly, you're just attractive. You're beautiful because you're smart, and because you're attractive. \"\n",
            "# 3829 \" I hope I don't have to go through this again. I just wanted to say that I appreciate the help and support from the community. I really appreciate you all. Keep being you! \"\n",
            "# 3828 \" Anyone else wanna get a tattoo? \"\n",
            "# 3827 \" I just want to say that I don't know if I should've just said that I'm a girl who is into boys. I know a lot of guys think that girls are into boys, but for me it's like everyone is into girls. I don't know if I should've just said that I'm a girl who is into boys, I know a lot of guys think that girls are into boys, but for me it's like everyone is into girls\n"
          ],
          "name": "stdout"
        }
      ]
    },
    {
      "cell_type": "markdown",
      "metadata": {
        "id": "oF4-PqF0Fl7R"
      },
      "source": [
        "If you're creating an API based on your model and need to pass the generated text elsewhere, you can do `text = gpt2.generate(sess, return_as_list=True)[0]`\n",
        "\n",
        "You can also pass in a `prefix` to the generate function to force the text to start with a given character sequence and generate text from there (good if you add an indicator when the text starts).\n",
        "\n",
        "You can also generate multiple texts at a time by specifing `nsamples`. Unique to GPT-2, you can pass a `batch_size` to generate multiple samples in parallel, giving a massive speedup (in Colaboratory, set a maximum of 20 for `batch_size`).\n",
        "\n",
        "Other optional-but-helpful parameters for `gpt2.generate` and friends:\n",
        "\n",
        "*  **`length`**: Number of tokens to generate (default 1023, the maximum)\n",
        "* **`temperature`**: The higher the temperature, the crazier the text (default 0.7, recommended to keep between 0.7 and 1.0)\n",
        "* **`top_k`**: Limits the generated guesses to the top *k* guesses (default 0 which disables the behavior; if the generated output is super crazy, you may want to set `top_k=40`)\n",
        "* **`top_p`**: Nucleus sampling: limits the generated guesses to a cumulative probability. (gets good results on a dataset with `top_p=0.9`)\n",
        "* **`truncate`**: Truncates the input text until a given sequence, excluding that sequence (e.g. if `truncate='<|endoftext|>'`, the returned text will include everything before the first `<|endoftext|>`). It may be useful to combine this with a smaller `length` if the input texts are short.\n",
        "*  **`include_prefix`**: If using `truncate` and `include_prefix=False`, the specified `prefix` will not be included in the returned text."
      ]
    },
    {
      "cell_type": "code",
      "metadata": {
        "id": "8DKMc0fiej4N",
        "outputId": "59411bf1-1ade-4217-b107-aa7d22cdf10f",
        "colab": {
          "base_uri": "https://localhost:8080/"
        }
      },
      "source": [
        "gpt2.generate(sess,\n",
        "              run_name=run_name,\n",
        "              length=250,\n",
        "              temperature=0.7,\n",
        "              prefix=\"Put your starting text here for the model to continue\",\n",
        "              nsamples=5,\n",
        "              batch_size=5\n",
        "              )"
      ],
      "execution_count": 8,
      "outputs": [
        {
          "output_type": "stream",
          "text": [
            "Put your starting text here for the model to continue their learning process. When you are done, leave a comment. I will do my best to help. \"\n",
            "# 3939 \" I just wanted to give you a huge shoutout for the most amazing month of your life. You are truly amazing \"\n",
            "# 3938 \" I have a twin sister who I love so much and I can't imagine living without her. But ever since I met this guy from NYUAD, I can't imagine living without her. I can't imagine living without her. I can't imagine living without her. I can't imagine living without her. I can't imagine living without her. I can't imagine living without her. I can't imagine living without her. I can't imagine living without her. I can't imagine living without her. I can't imagine living without her. I can't imagine living without her. I can't imagine living without her. I can't imagine living without her. \"\n",
            "# 3937 \" I just wanted to say I'm sorry if I offended you with the caption for this chapter. I know it was a little harsh. I was just trying to express how much I appreciate what you do and how cool you are. I hope you had a good month and\n",
            "====================\n",
            "Put your starting text here for the model to continue in the future! \"\n",
            "# 3933 \" If you're looking for a guy to marry, I'm interested, but I have a serious issue with having children. So, I'll be a single parent until at least another 5-6 years. I'll still be at home raising you girls, but I'll be raising you by myself. I'll give you a good education and a good life, but I'll be a single parent. \"\n",
            "# 3932 \" I just finished my fourth semester of GED, and boy is this finally working out. I've completed my first two courses, I've done my homework, I've taken the tests, and I've passed all the classes. I can now concentrate on my studies, my exams, and my relationships. \"\n",
            "# 3931 \" I want to thank everyone who makes this place a joy to be in. I couldn't have done it without you guys. Thank you for being so supportive and awesome. It means so much to have you fans. I wish I could thank all of you for being so kind and funny. God bless you all. \"\n",
            "# 3930 \" Who doesn't want to be a part of a community that has been a part of them\n",
            "====================\n",
            "Put your starting text here for the model to continue to grow.\n",
            "# 3142 \" I have a crush on this guy I can't believe he dated another girl \"\n",
            "# 3141 \" \"When I accidentally dumped my roommate yesterday, I was really upset. She had been stealing my attention and was making me feel guilty for falling for her. I was really upset about that and so I picked up my phone and called my roommate. She was so upset and I didn't want to talk to her about it. I wanted to just delete the call. When I finally got home, I started crying. I was really upset about that and I couldn't talk to my roommate about it cause she's so freaking out. I just kept crying. I didn't know what to do. I didn't know what it was that she was doing to me. I don't know if I should just let it go or not. I don't know if I should tell anyone. But I just wanted to make sure that whoever it was that I hooked up with today is going to look back and see that they dated me too. I was really upset about that and I didn't want to talk to them about it cause they're so freaking out. I just kept crying. I didn't know what\n",
            "====================\n",
            "Put your starting text here for the model to continue on with.\n",
            "# 3417 \" This is a personal post, but do not tell your friends about this. They will try to get you to do the same thing they did. You are the boss. Know your limitations. \"\n",
            "# 3416 \" I just want my grandma to be happy. \"\n",
            "# 3415 \" When I work in a relaxing environment, my mind just naturally goes to relaxing. It takes practice, but I get there. I am more present and productive than I think I am. I am learning to love myself and my work. Thank you for being so supportive and helping me grow. I would not be who I am without you. \"\n",
            "# 3414 \" My boyfriend treats me like I am his property. I am not his property, but damn is it annoying. \"\n",
            "# 3413 \" I just want to say that I absolutely love my roommate. She is so smart, hardworking, and attractive. I wish I could just date her! \"\n",
            "# 3412 \" Dear roommates, I know it is probably late but I just wanted to let you know that you are amazing people. You're very funny, charming, intelligent, and kind. But don't underestimate how much you can\n",
            "====================\n",
            "Put your starting text here for the model to continue to have a great experience.\n",
            "# 3936 \" So I have a crush on this guy, but I don't want to date him. What should I do? \"\n",
            "# 3935 \" I don't understand why it is so hard to get a job interview at NYUAD. I am an honors-level candidate, and I have been applying to jobs for years, and I have been an intern, and I have been a part-time instructor for years, and I have a ton of friends who I would really like to hang out with, and I have a ton of friends who would make a great professor, and I have a ton of friends who would be great friends. But my co-op is literally just a few weeks away. I could be in their class, I could be hanging out with them, I could be in their lab, and I could be studying with them. But it's just not possible. And I can't imagine being in their class, hanging out with them, and then going out on a date with them. So why even apply to NYUAD? Why even apply to an institution that does not deserve your talent? Why even apply to an institution that does not deserve your potential? Why even\n",
            "====================\n"
          ],
          "name": "stdout"
        }
      ]
    },
    {
      "cell_type": "markdown",
      "metadata": {
        "id": "zjjEN2Tafhl2"
      },
      "source": [
        "For bulk generation, you can generate a large amount of text to a file and sort out the samples locally on your computer. The next cell will generate a generated text file with a unique timestamp.\n",
        "\n",
        "You can rerun the cells as many times as you want for even more generated texts!"
      ]
    },
    {
      "cell_type": "code",
      "metadata": {
        "id": "Fa6p6arifSL0"
      },
      "source": [
        "gen_file = 'gpt2_{:%Y%m%d_%H%M%S}.txt'.format(datetime.utcnow())\n",
        "\n",
        "gpt2.generate_to_file(sess,\n",
        "                      run_name=run_name,\n",
        "                      destination_path=gen_file,\n",
        "                      length=500,\n",
        "                      prefix=\"Put your starting text here\",\n",
        "                      temperature=0.7,\n",
        "                      nsamples=10,\n",
        "                      )"
      ],
      "execution_count": 9,
      "outputs": []
    },
    {
      "cell_type": "code",
      "metadata": {
        "id": "dpVoNXO0mTCN"
      },
      "source": [
        "# Copy to Drive if mounted\n",
        "import os\n",
        "def is_mounted():\n",
        "  return os.path.isdir('/content/drive')\n",
        "\n",
        "if is_mounted():\n",
        "  print(\"Copying %s to Drive\" % gen_file)\n",
        "  gpt2.copy_file_to_gdrive(gen_file)"
      ],
      "execution_count": 10,
      "outputs": []
    },
    {
      "cell_type": "code",
      "metadata": {
        "id": "0-LRex8lfv1g",
        "outputId": "f3bc2fff-8585-46c4-9cc7-08d500192b6e",
        "colab": {
          "base_uri": "https://localhost:8080/",
          "height": 34
        }
      },
      "source": [
        "# Download the file may have to run twice to get file to download\n",
        "files.download(gen_file)"
      ],
      "execution_count": 11,
      "outputs": [
        {
          "output_type": "display_data",
          "data": {
            "application/javascript": [
              "\n",
              "    async function download(id, filename, size) {\n",
              "      if (!google.colab.kernel.accessAllowed) {\n",
              "        return;\n",
              "      }\n",
              "      const div = document.createElement('div');\n",
              "      const label = document.createElement('label');\n",
              "      label.textContent = `Downloading \"${filename}\": `;\n",
              "      div.appendChild(label);\n",
              "      const progress = document.createElement('progress');\n",
              "      progress.max = size;\n",
              "      div.appendChild(progress);\n",
              "      document.body.appendChild(div);\n",
              "\n",
              "      const buffers = [];\n",
              "      let downloaded = 0;\n",
              "\n",
              "      const channel = await google.colab.kernel.comms.open(id);\n",
              "      // Send a message to notify the kernel that we're ready.\n",
              "      channel.send({})\n",
              "\n",
              "      for await (const message of channel.messages) {\n",
              "        // Send a message to notify the kernel that we're ready.\n",
              "        channel.send({})\n",
              "        if (message.buffers) {\n",
              "          for (const buffer of message.buffers) {\n",
              "            buffers.push(buffer);\n",
              "            downloaded += buffer.byteLength;\n",
              "            progress.value = downloaded;\n",
              "          }\n",
              "        }\n",
              "      }\n",
              "      const blob = new Blob(buffers, {type: 'application/binary'});\n",
              "      const a = document.createElement('a');\n",
              "      a.href = window.URL.createObjectURL(blob);\n",
              "      a.download = filename;\n",
              "      div.appendChild(a);\n",
              "      a.click();\n",
              "      div.remove();\n",
              "    }\n",
              "  "
            ],
            "text/plain": [
              "<IPython.core.display.Javascript object>"
            ]
          },
          "metadata": {
            "tags": []
          }
        },
        {
          "output_type": "display_data",
          "data": {
            "application/javascript": [
              "download(\"download_eb8d1b07-3553-4ef9-a2a8-0bc77cb4517d\", \"gpt2_20201115_122415.txt\", 20937)"
            ],
            "text/plain": [
              "<IPython.core.display.Javascript object>"
            ]
          },
          "metadata": {
            "tags": []
          }
        }
      ]
    },
    {
      "cell_type": "markdown",
      "metadata": {
        "id": "N8KXuKWzQSsN"
      },
      "source": [
        "## Mounting Google Drive\n",
        "\n",
        "The best way to get input text to-be-trained into the Colaboratory VM, and to get the trained model *out* of Colaboratory, is to route it through Google Drive *first*.\n",
        "\n",
        "Running this cell (which will only work in Colaboratory) will mount your personal Google Drive in the VM, which later cells can use to get data in/out. (it will ask for an auth code; that auth is not saved anywhere)"
      ]
    },
    {
      "cell_type": "code",
      "metadata": {
        "id": "puq4iC6vUAHc",
        "outputId": "bcb2ec5c-2029-4654-aad9-687458745a6a",
        "colab": {
          "base_uri": "https://localhost:8080/"
        }
      },
      "source": [
        "gpt2.mount_gdrive()"
      ],
      "execution_count": 12,
      "outputs": [
        {
          "output_type": "stream",
          "text": [
            "Mounted at /content/drive\n"
          ],
          "name": "stdout"
        }
      ]
    },
    {
      "cell_type": "markdown",
      "metadata": {
        "id": "fhPnXI4BjRWQ"
      },
      "source": [
        "Copy the model trained in this session to your Google Drive"
      ]
    },
    {
      "cell_type": "code",
      "metadata": {
        "id": "VHdTL8NDbAh3",
        "outputId": "61d42e0b-1e6e-4d5d-b7a9-8bce56369298",
        "colab": {
          "base_uri": "https://localhost:8080/"
        }
      },
      "source": [
        "print(\"Copying run \" + run_name + \" to Google Drive\")\n",
        "gpt2.copy_checkpoint_to_gdrive(run_name=run_name)\n",
        "print(\"Finished copying\")"
      ],
      "execution_count": 13,
      "outputs": [
        {
          "output_type": "stream",
          "text": [
            "Copying run gpt_uploaded to Google Drive\n",
            "Finished copying\n"
          ],
          "name": "stdout"
        }
      ]
    },
    {
      "cell_type": "markdown",
      "metadata": {
        "id": "pel-uBULXO2L"
      },
      "source": [
        "## Load a Trained Model Checkpoint\n",
        "\n",
        "Running the next cell will copy the `.rar` checkpoint file from your Google Drive into the Colaboratory VM."
      ]
    },
    {
      "cell_type": "code",
      "metadata": {
        "id": "DCcx5u7sbPTD"
      },
      "source": [
        "gpt2.copy_checkpoint_from_gdrive(run_name=run_name)"
      ],
      "execution_count": 14,
      "outputs": []
    },
    {
      "cell_type": "markdown",
      "metadata": {
        "id": "RTa6zf3e_9gV"
      },
      "source": [
        "The next cell will allow you to load the retrained model checkpoint + metadata necessary to generate text."
      ]
    },
    {
      "cell_type": "code",
      "metadata": {
        "id": "-fxL77nvAMAX",
        "outputId": "a793a579-e241-4960-83f6-e089616c90db",
        "colab": {
          "base_uri": "https://localhost:8080/"
        }
      },
      "source": [
        "tf.reset_default_graph()\n",
        "\n",
        "sess = gpt2.start_tf_sess()\n",
        "gpt2.load_gpt2(sess, run_name=run_name)"
      ],
      "execution_count": 15,
      "outputs": [
        {
          "output_type": "stream",
          "text": [
            "Loading checkpoint checkpoint/gpt_uploaded/model-100\n",
            "INFO:tensorflow:Restoring parameters from checkpoint/gpt_uploaded/model-100\n"
          ],
          "name": "stdout"
        }
      ]
    },
    {
      "cell_type": "markdown",
      "metadata": {
        "id": "jLP7wyefiKDb"
      },
      "source": [
        "Now we can generate text from the loaded model. You can also go back and do more finetuning, then save the model again."
      ]
    },
    {
      "cell_type": "code",
      "metadata": {
        "id": "eZgZA1AGiOCa",
        "outputId": "62ed5808-2914-404c-dff6-4ea12e1d04ba",
        "colab": {
          "base_uri": "https://localhost:8080/"
        }
      },
      "source": [
        "gpt2.generate(sess, run_name=run_name, length=250)"
      ],
      "execution_count": 16,
      "outputs": [
        {
          "output_type": "stream",
          "text": [
            "# 3839 \" I can't believe I just got my first \"Real Housewives of Orange County\" paycheck. This is so unreal I'm speechless. \"\n",
            "# 3838 \" The next time you're going to the doctor, just remember to take care of yourself first. \"\n",
            "# 3837 \" \"What's the single most frustrating thing you've ever done in your entire life?\" \"\n",
            "# 3836 \" My boyfriend has been harassing me for months about my weight. I literally told him I was not interested. I thought it was over. But then I remembered that he's been going through a breakup, and that's when I started feeling really insecure. He's been telling me he's single too, and that his ex-girlfriend cheated on him. I guess he's just not that into me. But now I see he still wants to be with me. My head is spinning. How can I talk to him about this? \"\n",
            "# 3835 \" \"I am really ill at ease with myself. I might be sick or in my mid-20's, but I truly am myself. Even if I don't look or act the way I want to, I know that I am. I am who I\n"
          ],
          "name": "stdout"
        }
      ]
    },
    {
      "cell_type": "markdown",
      "metadata": {
        "id": "QQAN3M6RT7Kj"
      },
      "source": [
        "## Generate Text From The Pretrained Model\n",
        "\n",
        "If you want to generate text from the pretrained model, not a finetuned model, pass `model_name` to `gpt2.load_gpt2()` and `gpt2.generate()`.\n",
        "\n",
        "This is currently the only way to generate text from the 774M or 1558M models with this notebook."
      ]
    },
    {
      "cell_type": "code",
      "metadata": {
        "id": "hsUd_jHgUZnD",
        "outputId": "67027e94-226c-4f8d-a926-b01193283111",
        "colab": {
          "base_uri": "https://localhost:8080/",
          "height": 878
        }
      },
      "source": [
        "#model_name = \"774M\"\n",
        "model_name = \"1558M\"\n",
        "\n",
        "\n",
        "gpt2.download_gpt2(model_name=model_name)"
      ],
      "execution_count": 17,
      "outputs": [
        {
          "output_type": "stream",
          "text": [
            "Fetching checkpoint: 1.05Mit [00:00, 507Mit/s]                                                      \n",
            "Fetching encoder.json: 1.05Mit [00:00, 72.2Mit/s]                                                   \n",
            "Fetching hparams.json: 1.05Mit [00:00, 559Mit/s]                                                    \n",
            "Fetching model.ckpt.data-00000-of-00001:  76%|████████████▏   | 4.72G/6.23G [01:31<00:29, 51.4Mit/s]\n",
            "ERROR:root:Internal Python error in the inspect module.\n",
            "Below is the traceback from this internal error.\n",
            "\n"
          ],
          "name": "stderr"
        },
        {
          "output_type": "stream",
          "text": [
            "Traceback (most recent call last):\n",
            "  File \"/usr/local/lib/python3.6/dist-packages/IPython/core/interactiveshell.py\", line 2882, in run_code\n",
            "    exec(code_obj, self.user_global_ns, self.user_ns)\n",
            "  File \"<ipython-input-17-10dcd3a2b1bf>\", line 5, in <module>\n",
            "    gpt2.download_gpt2(model_name=model_name)\n",
            "  File \"/usr/local/lib/python3.6/dist-packages/gpt_2_simple/gpt_2.py\", line 93, in download_gpt2\n",
            "    file_name=file_name)\n",
            "  File \"/usr/local/lib/python3.6/dist-packages/gpt_2_simple/gpt_2.py\", line 60, in download_file_with_progress\n",
            "    f.write(chunk)\n",
            "KeyboardInterrupt\n",
            "\n",
            "During handling of the above exception, another exception occurred:\n",
            "\n",
            "Traceback (most recent call last):\n",
            "  File \"/usr/local/lib/python3.6/dist-packages/IPython/core/interactiveshell.py\", line 1823, in showtraceback\n",
            "    stb = value._render_traceback_()\n",
            "AttributeError: 'KeyboardInterrupt' object has no attribute '_render_traceback_'\n",
            "\n",
            "During handling of the above exception, another exception occurred:\n",
            "\n",
            "Traceback (most recent call last):\n",
            "  File \"/usr/local/lib/python3.6/dist-packages/IPython/core/ultratb.py\", line 1132, in get_records\n",
            "    return _fixed_getinnerframes(etb, number_of_lines_of_context, tb_offset)\n",
            "  File \"/usr/local/lib/python3.6/dist-packages/IPython/core/ultratb.py\", line 313, in wrapped\n",
            "    return f(*args, **kwargs)\n",
            "  File \"/usr/local/lib/python3.6/dist-packages/IPython/core/ultratb.py\", line 358, in _fixed_getinnerframes\n",
            "    records = fix_frame_records_filenames(inspect.getinnerframes(etb, context))\n",
            "  File \"/usr/lib/python3.6/inspect.py\", line 1490, in getinnerframes\n",
            "    frameinfo = (tb.tb_frame,) + getframeinfo(tb, context)\n",
            "  File \"/usr/lib/python3.6/inspect.py\", line 1452, in getframeinfo\n",
            "    lines, lnum = findsource(frame)\n",
            "  File \"/usr/local/lib/python3.6/dist-packages/IPython/core/ultratb.py\", line 182, in findsource\n",
            "    lines = linecache.getlines(file, globals_dict)\n",
            "  File \"/usr/lib/python3.6/linecache.py\", line 47, in getlines\n",
            "    return updatecache(filename, module_globals)\n",
            "  File \"/usr/lib/python3.6/linecache.py\", line 137, in updatecache\n",
            "    lines = fp.readlines()\n",
            "  File \"/usr/lib/python3.6/codecs.py\", line 318, in decode\n",
            "    def decode(self, input, final=False):\n",
            "KeyboardInterrupt\n"
          ],
          "name": "stdout"
        },
        {
          "output_type": "error",
          "ename": "KeyboardInterrupt",
          "evalue": "ignored",
          "traceback": [
            "\u001b[0;31m---------------------------------------------------------------------------\u001b[0m"
          ]
        }
      ]
    },
    {
      "cell_type": "code",
      "metadata": {
        "id": "BAe4NpKNUj2C"
      },
      "source": [
        "sess = gpt2.start_tf_sess()\n",
        "\n",
        "gpt2.load_gpt2(sess, model_name=model_name)"
      ],
      "execution_count": null,
      "outputs": []
    },
    {
      "cell_type": "code",
      "metadata": {
        "id": "-xInIZKaU104"
      },
      "source": [
        "gpt2.generate(sess,\n",
        "              model_name=model_name,\n",
        "              prefix=\"SOLTAN: Why are you here?\\nMASKED MAN: Didn't you ask me to come?\\nSOLTAN: Most certainly I did not!\\n\",\n",
        "              length=1000,\n",
        "              temperature=0.7,\n",
        "              #top_p=0.9,\n",
        "              nsamples=1,\n",
        "              batch_size=1\n",
        "              )"
      ],
      "execution_count": null,
      "outputs": []
    },
    {
      "cell_type": "markdown",
      "metadata": {
        "id": "ig-KVgkCDCKD"
      },
      "source": [
        "# Etcetera\n",
        "\n",
        "If the notebook has errors (e.g. GPU Sync Fail), force-kill the Colaboratory virtual machine and restart it with the command below:"
      ]
    },
    {
      "cell_type": "code",
      "metadata": {
        "id": "rIHiVP53FnsX"
      },
      "source": [
        "!kill -9 -1"
      ],
      "execution_count": null,
      "outputs": []
    },
    {
      "cell_type": "markdown",
      "metadata": {
        "id": "wmTXWNUygS5E"
      },
      "source": [
        "# LICENSE\n",
        "\n",
        "MIT License\n",
        "\n",
        "Copyright (c) 2019 Max Woolf\n",
        "\n",
        "Permission is hereby granted, free of charge, to any person obtaining a copy\n",
        "of this software and associated documentation files (the \"Software\"), to deal\n",
        "in the Software without restriction, including without limitation the rights\n",
        "to use, copy, modify, merge, publish, distribute, sublicense, and/or sell\n",
        "copies of the Software, and to permit persons to whom the Software is\n",
        "furnished to do so, subject to the following conditions:\n",
        "\n",
        "The above copyright notice and this permission notice shall be included in all\n",
        "copies or substantial portions of the Software.\n",
        "\n",
        "THE SOFTWARE IS PROVIDED \"AS IS\", WITHOUT WARRANTY OF ANY KIND, EXPRESS OR\n",
        "IMPLIED, INCLUDING BUT NOT LIMITED TO THE WARRANTIES OF MERCHANTABILITY,\n",
        "FITNESS FOR A PARTICULAR PURPOSE AND NONINFRINGEMENT. IN NO EVENT SHALL THE\n",
        "AUTHORS OR COPYRIGHT HOLDERS BE LIABLE FOR ANY CLAIM, DAMAGES OR OTHER\n",
        "LIABILITY, WHETHER IN AN ACTION OF CONTRACT, TORT OR OTHERWISE, ARISING FROM,\n",
        "OUT OF OR IN CONNECTION WITH THE SOFTWARE OR THE USE OR OTHER DEALINGS IN THE\n",
        "SOFTWARE."
      ]
    }
  ]
}